{
  "nbformat": 4,
  "nbformat_minor": 0,
  "metadata": {
    "colab": {
      "provenance": [],
      "authorship_tag": "ABX9TyMuqLMgClXEBRzFerj+RfCt",
      "include_colab_link": true
    },
    "kernelspec": {
      "name": "python3",
      "display_name": "Python 3"
    },
    "language_info": {
      "name": "python"
    }
  },
  "cells": [
    {
      "cell_type": "markdown",
      "metadata": {
        "id": "view-in-github",
        "colab_type": "text"
      },
      "source": [
        "<a href=\"https://colab.research.google.com/github/pankajshakya627/Basic_programs/blob/main/Pancard_Tempering.ipynb\" target=\"_parent\"><img src=\"https://colab.research.google.com/assets/colab-badge.svg\" alt=\"Open In Colab\"/></a>"
      ]
    },
    {
      "cell_type": "code",
      "execution_count": 1,
      "metadata": {
        "id": "g5JVaAUmG3sM"
      },
      "outputs": [],
      "source": [
        "# import the necessary packages\n",
        "from skimage.metrics import structural_similarity\n",
        "import imutils\n",
        "import cv2\n",
        "from PIL import Image\n",
        "import requests"
      ]
    },
    {
      "cell_type": "code",
      "source": [
        "!mkdir pan_card_tampering\n",
        "!mkdir pan_card_tampering/image"
      ],
      "metadata": {
        "id": "uA2ox3h3IcgI"
      },
      "execution_count": 2,
      "outputs": []
    },
    {
      "cell_type": "code",
      "source": [
        "# Open image and display\n",
        "original = Image.open(requests.get('https://www.thestatesman.com/wp-content/uploads/2019/07/pan-card.jpg', stream=True).raw)\n",
        "tampered = Image.open(requests.get('https://assets1.cleartax-cdn.com/s/img/20170526124335/Pan4.png', stream=True).raw) "
      ],
      "metadata": {
        "id": "zR13I97FIfM2"
      },
      "execution_count": 3,
      "outputs": []
    },
    {
      "cell_type": "code",
      "source": [
        "# The file format of the source file.\n",
        "print(\"Original image format : \",original.format) \n",
        "print(\"Tampered image format : \",tampered.format)\n",
        "\n",
        "# Image size, in pixels. The size is given as a 2-tuple (width, height).\n",
        "print(\"Original image size : \",original.size) \n",
        "print(\"Tampered image size : \",tampered.size) "
      ],
      "metadata": {
        "colab": {
          "base_uri": "https://localhost:8080/"
        },
        "id": "x5QzeGEFIjd9",
        "outputId": "69a8a6c4-574a-41ce-b5c0-0ce8504afe5a"
      },
      "execution_count": 4,
      "outputs": [
        {
          "output_type": "stream",
          "name": "stdout",
          "text": [
            "Original image format :  JPEG\n",
            "Tampered image format :  PNG\n",
            "Original image size :  (1200, 800)\n",
            "Tampered image size :  (282, 179)\n"
          ]
        }
      ]
    },
    {
      "cell_type": "code",
      "source": [
        "# Resize Image\n",
        "original = original.resize((250, 160))\n",
        "print(original.size)\n",
        "original.save('pan_card_tampering/image/original.png')#Save image\n",
        "tampered = tampered.resize((250,160))\n",
        "print(tampered.size)\n",
        "tampered.save('pan_card_tampering/image/tampered.png')#Saves image"
      ],
      "metadata": {
        "colab": {
          "base_uri": "https://localhost:8080/"
        },
        "id": "PKenfw6mIoAQ",
        "outputId": "85c971b3-6373-4788-8472-b68ecee11dd8"
      },
      "execution_count": 5,
      "outputs": [
        {
          "output_type": "stream",
          "name": "stdout",
          "text": [
            "(250, 160)\n",
            "(250, 160)\n"
          ]
        }
      ]
    },
    {
      "cell_type": "code",
      "source": [],
      "metadata": {
        "id": "QTO1odSRIrYJ"
      },
      "execution_count": null,
      "outputs": []
    }
  ]
}